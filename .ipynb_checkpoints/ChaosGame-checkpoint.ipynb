{
 "cells": [
  {
   "cell_type": "code",
   "execution_count": null,
   "metadata": {},
   "outputs": [],
   "source": [
    "import random\n",
    "import numpy as np\n",
    "import matplotlib.pyplot as plt"
   ]
  },
  {
   "cell_type": "markdown",
   "metadata": {},
   "source": [
    "## Triangle"
   ]
  },
  {
   "cell_type": "code",
   "execution_count": null,
   "metadata": {},
   "outputs": [],
   "source": [
    "\n",
    "\n",
    "#set point coordinates\n",
    "x =[1,1.5,2]\n",
    "y = [1,1+np.sqrt(.75),1]\n",
    "ry = 1\n",
    "rx = np.random.rand(1,) + 1\n",
    "start = [ry, rx]\n",
    "a, b, c = zip(x, y)\n",
    "\n",
    "#set list of vertices for random choice\n",
    "direction = [a,b,c]\n",
    "\n",
    "def rand_dir(dirc):\n",
    "    return np.array(random.choice(dirc))\n",
    "\n",
    "def next_point(array, array2):\n",
    "    return (array + array2) * .5\n",
    "\n",
    "plt.figure(figsize=(10, 10))\n",
    "\n",
    "#plot triangle\n",
    "plt.scatter(x, y)\n",
    "\n",
    "#plot initial random point\n",
    "plt.scatter(rx, ry)\n",
    "\n",
    "\n",
    "\n",
    "for i in range(100000):\n",
    "    tri = rand_dir(direction)\n",
    "    start = next_point(tri, start)\n",
    "    point = plt.scatter(start[0], start[1], s = 5)\n",
    "    \n",
    "plt.savefig('ChaosGameTriangle.png')\n",
    "\n",
    "plt.show()"
   ]
  },
  {
   "cell_type": "markdown",
   "metadata": {},
   "source": [
    "## Square"
   ]
  },
  {
   "cell_type": "code",
   "execution_count": null,
   "metadata": {},
   "outputs": [],
   "source": [
    "\n",
    "\n",
    "#set point coordinates\n",
    "x =[1,2,2,1]\n",
    "y = [1,1,2,2]\n",
    "ry = 1\n",
    "rx = np.random.rand(1,) + 1\n",
    "\n",
    "a, b, c, d = zip(x, y)\n",
    "\n",
    "#set list of vertices for random choice\n",
    "direction = [a,b,c, d]\n",
    "start = random.choice(direction)\n",
    "def rand_dir(dirc):\n",
    "    return np.array(random.choice(dirc))\n",
    "\n",
    "def next_point(array, array2):\n",
    "    return (array + array2) * .5\n",
    "\n",
    "plt.figure(figsize=(10, 10))\n",
    "\n",
    "#plot triangle\n",
    "plt.scatter(x, y)\n",
    "\n",
    "#plot initial random point\n",
    "plt.scatter(rx, ry)\n",
    "\n",
    "\n",
    "\n",
    "for i in range(1000):\n",
    "    tri = rand_dir(direction)\n",
    "    start = next_point(tri, start)\n",
    "    point = plt.scatter(start[0], start[1], s = 5)\n",
    "    \n",
    "plt.savefig('ChaosGameSquare.png')\n",
    "\n",
    "plt.show()\n"
   ]
  },
  {
   "cell_type": "code",
   "execution_count": null,
   "metadata": {},
   "outputs": [],
   "source": []
  }
 ],
 "metadata": {
  "kernelspec": {
   "display_name": "Python 3",
   "language": "python",
   "name": "python3"
  },
  "language_info": {
   "codemirror_mode": {
    "name": "ipython",
    "version": 3
   },
   "file_extension": ".py",
   "mimetype": "text/x-python",
   "name": "python",
   "nbconvert_exporter": "python",
   "pygments_lexer": "ipython3",
   "version": "3.7.4"
  }
 },
 "nbformat": 4,
 "nbformat_minor": 4
}
